{
 "cells": [
  {
   "cell_type": "code",
   "execution_count": 2,
   "id": "be6b8db1",
   "metadata": {},
   "outputs": [],
   "source": [
    "fichier = open('The-Lord-of-the-Rings.txt', 'r', encoding='utf-8')\n",
    "\n",
    "# Lire les 24000 premières lignes du fichier\n",
    "nombre_lignes_voulues = 24000\n",
    "texte = \"\"\n",
    "for i in range(nombre_lignes_voulues):\n",
    "    ligne = fichier.readline()\n",
    "    if not ligne:\n",
    "        break\n",
    "    texte += ligne\n",
    "\n",
    "# Fermer le fichier après avoir lu les lignes nécessaires\n",
    "fichier.close()\n"
   ]
  },
  {
   "cell_type": "code",
   "execution_count": 7,
   "id": "a9efb3d4",
   "metadata": {},
   "outputs": [],
   "source": [
    "from collections import Counter\n",
    "import spacy\n",
    "\n",
    "nlp = spacy.load(\"en_core_web_sm\")\n",
    "nlp.max_length = 3100000\n",
    "doc = nlp(texte)\n",
    "\n",
    "personnages_lotr = []\n",
    "# Parcourir les entités nommées dans le texte\n",
    "for ent in doc.ents:\n",
    "    if ent.label_ == \"PERSON\":  # Filtrer les entités de type \"PERSON\"\n",
    "        personnages_lotr.append(ent.text)\n",
    "# Compter les occurrences des noms de personnages\n",
    "compteur_noms = Counter(personnages_lotr)\n",
    "\n",
    "# Filtrer les noms répétés au moins 10 fois\n",
    "noms_recurrents = [nom for nom, occurences in compteur_noms.items() if occurences >= 10]\n",
    "\n",
    "personnages_lotr = noms_recurrents\n",
    "\n",
    "liste_a_supprimer = [\"Tolkien\", \"Dúnedain\", \"Enemy\",\"Sting\",\"Moon\",\"Underhill\",\"Mark\",\"Greyflood\",\"Halfling\",\"Andúril\",\"Barad-dûr\",\"Lady\",\"Mithrandir\",\"Dike\",\"Morgai\",\"\"]  \n",
    "\n",
    "for nom in liste_a_supprimer:\n",
    "    if nom in personnages_lotr:\n",
    "        personnages_lotr.remove(nom)\n",
    "lieu_lotr=[]\n",
    "noms_a_deplacer = [\"Moria\", \"Mordor\", \"Anórien\", \"Bree\", \"Brandywine\",\"Shire\",\"Anduin\",\"Dale\",\"Rivendell\",\"Mordor\",\"Downs\",\"Elrond\",\"Lórien\",\"Gorgoroth\",\"Minas Tirith\",\"Havens\",\"Dol Guldur\",\"Orthanc\",\"Edoras\",\"Isen\",\"Tol Brandir\",\"Fangorn\",\"Amon Hen\",\"Helm\",\"Westfold\",\"Pelennor\",\"Dol Amroth\",\"\"]\n",
    "\n",
    "# Déplacer les noms de personnages vers lieu_lotr\n",
    "for nom in noms_a_deplacer:\n",
    "    if nom in personnages_lotr:\n",
    "        personnages_lotr.remove(nom)\n",
    "        lieu_lotr.append(nom)"
   ]
  },
  {
   "cell_type": "code",
   "execution_count": 8,
   "id": "a5b3aa5a",
   "metadata": {},
   "outputs": [],
   "source": [
    "# Liste de correspondances pour fusionner les noms\n",
    "correspondances_fusion = [\n",
    "    (\"Aragorn\", \"Strider\"),\n",
    "    (\"Aragorn\", \"Ranger\"),\n",
    "    (\"Frodo\", \"Baggins\"),\n",
    "    (\"Sam\", \"Sam Gamgee\"),\n",
    "    (\"Tom\", \"Tom Bombadil\"),\n",
    "    (\"Barliman\", \"Butterbur\"),\n",
    "    (\"Barliman\", \"Butterbur\"),\n",
    "    (\"Aragorn\", \"Aragorn.\"),\n",
    "    (\"Wormtongue\", \"Gríma\"),\n",
    "    (\"Sam\", \"Samwise\"),\n",
    "    (\"Cotton\", \"Farmer Cotton\"),\n",
    "    # Ajoutez d'autres correspondances si nécessaire\n",
    "]\n",
    "\n",
    "# Copier la liste personnages_lotr dans personnages_lotr1\n",
    "personnages_lotr1 = list(personnages_lotr)\n",
    "\n",
    "# Appliquer les correspondances pour fusionner les noms\n",
    "for ancien_nom, nouveau_nom in correspondances_fusion:\n",
    "    if ancien_nom in personnages_lotr1 and nouveau_nom in personnages_lotr1:\n",
    "        occurences_ancien_nom = personnages_lotr1.count(ancien_nom)\n",
    "        personnages_lotr1.remove(ancien_nom)\n",
    "        personnages_lotr1.extend([nouveau_nom] * occurences_ancien_nom)\n",
    "\n"
   ]
  },
  {
   "cell_type": "code",
   "execution_count": 9,
   "id": "d6fdaccf",
   "metadata": {},
   "outputs": [
    {
     "name": "stdout",
     "output_type": "stream",
     "text": [
      "['Strider', 'Merry', 'Gimli', 'Durin', 'Bilbo', 'Gollum', 'Baggins', 'Galadriel', 'Bilbo Baggins', 'Frodo', 'Sam Gamgee', 'Gaffer', 'Brandybuck', 'Sam', 'Pippin', 'Ted', 'Gil-galad', 'Sméagol', 'Gildor', 'Maggot', 'Tom', 'Tom Bombadil', 'Goldberry', 'Butterbur', 'Barliman', 'Bill Ferny', 'Ranger', 'Bill', 'Tinúviel', 'Beren', 'Glorfindel', 'Arwen', 'Elrohir', 'Legolas', 'Boromir', 'Saruman', 'Nazgûl', 'Aragorn', 'Gwaihir', 'Aragorn.', 'Eorl', 'Éomer', 'Thengel', 'Uglúk', 'Grishnákh', 'Treebeard', 'Bregalad', 'Théoden', 'Wormtongue', 'Gríma', 'Éowyn', 'Snowmane', 'Faramir', 'Samwise', 'Shelob', 'Shagrat', 'Denethor', 'Beregond', 'Bergil', 'Dernhelm', 'Imrahil', 'Rosie', 'Sharkey', 'Cotton', 'Farmer Cotton']\n"
     ]
    }
   ],
   "source": [
    "print(personnages_lotr)"
   ]
  },
  {
   "cell_type": "code",
   "execution_count": 10,
   "id": "3c8645fc",
   "metadata": {},
   "outputs": [
    {
     "name": "stdout",
     "output_type": "stream",
     "text": [
      "['Moria', 'Mordor', 'Anórien', 'Bree', 'Brandywine', 'Shire', 'Anduin', 'Dale', 'Rivendell', 'Downs', 'Elrond', 'Lórien', 'Gorgoroth', 'Minas Tirith', 'Havens', 'Dol Guldur', 'Orthanc', 'Edoras', 'Isen', 'Tol Brandir', 'Fangorn', 'Amon Hen', 'Helm', 'Westfold', 'Pelennor', 'Dol Amroth']\n"
     ]
    }
   ],
   "source": [
    "print(lieu_lotr)"
   ]
  }
 ],
 "metadata": {
  "kernelspec": {
   "display_name": "Python 3 (ipykernel)",
   "language": "python",
   "name": "python3"
  },
  "language_info": {
   "codemirror_mode": {
    "name": "ipython",
    "version": 3
   },
   "file_extension": ".py",
   "mimetype": "text/x-python",
   "name": "python",
   "nbconvert_exporter": "python",
   "pygments_lexer": "ipython3",
   "version": "3.11.4"
  }
 },
 "nbformat": 4,
 "nbformat_minor": 5
}

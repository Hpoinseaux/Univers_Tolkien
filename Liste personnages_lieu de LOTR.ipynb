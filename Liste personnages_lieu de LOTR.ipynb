{
 "cells": [
  {
   "cell_type": "code",
   "execution_count": 1,
   "metadata": {},
   "outputs": [],
   "source": [
    "from collections import Counter\n",
    "import spacy\n",
    "\n"
   ]
  },
  {
   "cell_type": "code",
   "execution_count": 2,
   "id": "be6b8db1",
   "metadata": {},
   "outputs": [],
   "source": [
    "#Importation texte:\n",
    "fichier = open(r\"C:\\Users\\hadrien\\Documents\\Personnel\\formation data\\Projet\\livre eng\\The-Lord-of-the-Rings-Illustrated-Ed...-Z-Library.txt\", 'r', encoding='utf-8')\n",
    "\n",
    "nombre_lignes_voulues = 24000\n",
    "texte = \"\"\n",
    "for i in range(nombre_lignes_voulues):\n",
    "    ligne = fichier.readline()\n",
    "    if not ligne:\n",
    "        break\n",
    "    texte += ligne\n",
    "\n",
    "fichier.close()\n"
   ]
  },
  {
   "cell_type": "code",
   "execution_count": 3,
   "id": "a9efb3d4",
   "metadata": {},
   "outputs": [],
   "source": [
    "\n",
    "#Création des listes de personnages et des lieux répétés au moins 10 fois dans les livre LOTR:\n",
    "nlp = spacy.load(\"en_core_web_sm\")\n",
    "nlp.max_length = 3100000\n",
    "doc = nlp(texte)\n",
    "\n",
    "personnages_lotr = []\n",
    "for ent in doc.ents:\n",
    "    if ent.label_ == \"PERSON\":  \n",
    "        personnages_lotr.append(ent.text)\n",
    "\n",
    "compteur_noms = Counter(personnages_lotr)\n",
    "\n",
    "\n",
    "noms_recurrents = [nom for nom, occurences in compteur_noms.items() if occurences >= 10]\n",
    "\n",
    "personnages_lotr = noms_recurrents\n",
    "\n",
    "liste_a_supprimer = [\"Tolkien\", \"Dúnedain\", \"Enemy\",\"Sting\",\"Moon\",\"Underhill\",\"Mark\",\"Greyflood\",\"Halfling\",\"Andúril\",\"Barad-dûr\",\"Lady\",\"Mithrandir\",\"Dike\",\"Morgai\",\"\"]  \n",
    "\n",
    "for nom in liste_a_supprimer:\n",
    "    if nom in personnages_lotr:\n",
    "        personnages_lotr.remove(nom)\n",
    "lieu_lotr=[]\n",
    "noms_a_deplacer = [\"Moria\", \"Mordor\", \"Anórien\", \"Bree\", \"Brandywine\",\"Shire\",\"Anduin\",\"Dale\",\"Rivendell\",\"Mordor\",\"Downs\",\"Elrond\",\"Lórien\",\"Gorgoroth\",\"Minas Tirith\",\"Havens\",\"Dol Guldur\",\"Orthanc\",\"Edoras\",\"Isen\",\"Tol Brandir\",\"Fangorn\",\"Amon Hen\",\"Helm\",\"Westfold\",\"Pelennor\",\"Dol Amroth\",\"\"]\n",
    "\n",
    "\n",
    "for nom in noms_a_deplacer:\n",
    "    if nom in personnages_lotr:\n",
    "        personnages_lotr.remove(nom)\n",
    "        lieu_lotr.append(nom)"
   ]
  },
  {
   "cell_type": "code",
   "execution_count": 4,
   "id": "a5b3aa5a",
   "metadata": {},
   "outputs": [],
   "source": [
    "# Liste de correspondances pour fusionner les noms qui cible le même personnage:\n",
    "correspondances_fusion = [\n",
    "    (\"Aragorn\", \"Strider\"),\n",
    "    (\"Aragorn\", \"Ranger\"),\n",
    "    (\"Frodo\", \"Baggins\"),\n",
    "    (\"Sam\", \"Sam Gamgee\"),\n",
    "    (\"Tom\", \"Tom Bombadil\"),\n",
    "    (\"Barliman\", \"Butterbur\"),\n",
    "    (\"Barliman\", \"Butterbur\"),\n",
    "    (\"Aragorn\", \"Aragorn.\"),\n",
    "    (\"Wormtongue\", \"Gríma\"),\n",
    "    (\"Sam\", \"Samwise\"),\n",
    "    (\"Cotton\", \"Farmer Cotton\")\n",
    "]\n",
    "\n",
    "personnages_lotr1 = list(personnages_lotr)\n",
    "\n",
    "for ancien_nom, nouveau_nom in correspondances_fusion:\n",
    "    if ancien_nom in personnages_lotr1 and nouveau_nom in personnages_lotr1:\n",
    "        occurences_ancien_nom = personnages_lotr1.count(ancien_nom)\n",
    "        personnages_lotr1.remove(ancien_nom)\n",
    "        personnages_lotr1.extend([nouveau_nom] * occurences_ancien_nom)\n",
    "\n"
   ]
  },
  {
   "cell_type": "code",
   "execution_count": 5,
   "id": "d6fdaccf",
   "metadata": {},
   "outputs": [
    {
     "name": "stdout",
     "output_type": "stream",
     "text": [
      "['Strider', 'Merry', 'Gimli', 'Durin', 'Bilbo', 'Gollum', 'Baggins', 'Galadriel', 'Bilbo Baggins', 'Frodo', 'Sam Gamgee', 'Gaffer', 'Brandybuck', 'Sam', 'Pippin', 'Ted', 'Gil-galad', 'Sméagol', 'Gildor', 'Maggot', 'Tom', 'Tom Bombadil', 'Goldberry', 'Butterbur', 'Barliman', 'Bill Ferny', 'Ranger', 'Bill', 'Tinúviel', 'Beren', 'Glorfindel', 'Arwen', 'Elrohir', 'Legolas', 'Boromir', 'Saruman', 'Nazgûl', 'Aragorn', 'Gwaihir', 'Aragorn.', 'Eorl', 'Éomer', 'Thengel', 'Uglúk', 'Grishnákh', 'Treebeard', 'Bregalad', 'Théoden', 'Wormtongue', 'Gríma', 'Éowyn', 'Snowmane', 'Faramir', 'Samwise', 'Shelob', 'Shagrat', 'Denethor', 'Beregond', 'Bergil', 'Dernhelm', 'Imrahil', 'Rosie', 'Sharkey', 'Cotton', 'Farmer Cotton']\n",
      "['Moria', 'Mordor', 'Anórien', 'Bree', 'Brandywine', 'Shire', 'Anduin', 'Dale', 'Rivendell', 'Downs', 'Elrond', 'Lórien', 'Gorgoroth', 'Minas Tirith', 'Havens', 'Dol Guldur', 'Orthanc', 'Edoras', 'Isen', 'Tol Brandir', 'Fangorn', 'Amon Hen', 'Helm', 'Westfold', 'Pelennor', 'Dol Amroth']\n"
     ]
    }
   ],
   "source": [
    "print(personnages_lotr)\n",
    "print(lieu_lotr)"
   ]
  }
 ],
 "metadata": {
  "kernelspec": {
   "display_name": "Python 3 (ipykernel)",
   "language": "python",
   "name": "python3"
  },
  "language_info": {
   "codemirror_mode": {
    "name": "ipython",
    "version": 3
   },
   "file_extension": ".py",
   "mimetype": "text/x-python",
   "name": "python",
   "nbconvert_exporter": "python",
   "pygments_lexer": "ipython3",
   "version": "3.11.4"
  }
 },
 "nbformat": 4,
 "nbformat_minor": 5
}
